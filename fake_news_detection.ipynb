{
  "cells": [
    {
      "cell_type": "code",
      "execution_count": 1,
      "metadata": {
        "id": "Cpkf2_VS-dzT"
      },
      "outputs": [],
      "source": [
        "import pandas as pd\n",
        "import numpy as np\n",
        "import matplotlib.pyplot as plt\n",
        "import seaborn as sns\n",
        "from sklearn.feature_extraction.text import CountVectorizer\n",
        "from sklearn.feature_extraction.text import TfidfTransformer\n",
        "from sklearn import feature_extraction, linear_model, model_selection, preprocessing\n",
        "from sklearn.pipeline import Pipeline\n",
        "from sklearn.model_selection import train_test_split\n",
        "from sklearn.feature_extraction.text import TfidfVectorizer\n",
        "from sklearn.metrics import accuracy_score, classification_report"
      ]
    },
    {
      "cell_type": "code",
      "execution_count": 4,
      "metadata": {
        "id": "duEZunsA_SFE"
      },
      "outputs": [],
      "source": [
        "import pandas as pd\n",
        "\n",
        "rows_to_skip = [3129]\n",
        "fake = pd.read_csv(\"Fake.csv\", skiprows=rows_to_skip, encoding='utf-8')\n",
        "true = pd.read_csv(\"True.csv\", skiprows=rows_to_skip, encoding='utf-8')\n"
      ]
    },
    {
      "cell_type": "code",
      "execution_count": 5,
      "metadata": {
        "colab": {
          "base_uri": "https://localhost:8080/"
        },
        "id": "16UuCXVKD9Jh",
        "outputId": "cf14b419-4362-402c-b167-b52bf0d20cec"
      },
      "outputs": [
        {
          "data": {
            "text/plain": [
              "(23480, 4)"
            ]
          },
          "execution_count": 5,
          "metadata": {},
          "output_type": "execute_result"
        }
      ],
      "source": [
        "fake.shape"
      ]
    },
    {
      "cell_type": "code",
      "execution_count": 6,
      "metadata": {
        "colab": {
          "base_uri": "https://localhost:8080/"
        },
        "id": "xOa9eFG5ECqp",
        "outputId": "d85c1e2b-7ad2-48c8-89f0-29372cc4ec99"
      },
      "outputs": [
        {
          "data": {
            "text/plain": [
              "(21416, 4)"
            ]
          },
          "execution_count": 6,
          "metadata": {},
          "output_type": "execute_result"
        }
      ],
      "source": [
        "true.shape"
      ]
    },
    {
      "cell_type": "code",
      "execution_count": 7,
      "metadata": {
        "id": "DIa4aftzEGLG"
      },
      "outputs": [],
      "source": [
        "fake['target'] = 'fake'\n",
        "true['target'] = 'true'"
      ]
    },
    {
      "cell_type": "code",
      "execution_count": 8,
      "metadata": {
        "colab": {
          "base_uri": "https://localhost:8080/",
          "height": 206
        },
        "id": "b_NCMXuUEKzP",
        "outputId": "01fc8414-4a2d-49a1-d727-a7c94b14fd64"
      },
      "outputs": [
        {
          "data": {
            "text/html": [
              "<div>\n",
              "<style scoped>\n",
              "    .dataframe tbody tr th:only-of-type {\n",
              "        vertical-align: middle;\n",
              "    }\n",
              "\n",
              "    .dataframe tbody tr th {\n",
              "        vertical-align: top;\n",
              "    }\n",
              "\n",
              "    .dataframe thead th {\n",
              "        text-align: right;\n",
              "    }\n",
              "</style>\n",
              "<table border=\"1\" class=\"dataframe\">\n",
              "  <thead>\n",
              "    <tr style=\"text-align: right;\">\n",
              "      <th></th>\n",
              "      <th>title</th>\n",
              "      <th>text</th>\n",
              "      <th>subject</th>\n",
              "      <th>date</th>\n",
              "      <th>target</th>\n",
              "    </tr>\n",
              "  </thead>\n",
              "  <tbody>\n",
              "    <tr>\n",
              "      <th>0</th>\n",
              "      <td>As U.S. budget fight looms, Republicans flip t...</td>\n",
              "      <td>WASHINGTON (Reuters) - The head of a conservat...</td>\n",
              "      <td>politicsNews</td>\n",
              "      <td>December 31, 2017</td>\n",
              "      <td>true</td>\n",
              "    </tr>\n",
              "    <tr>\n",
              "      <th>1</th>\n",
              "      <td>U.S. military to accept transgender recruits o...</td>\n",
              "      <td>WASHINGTON (Reuters) - Transgender people will...</td>\n",
              "      <td>politicsNews</td>\n",
              "      <td>December 29, 2017</td>\n",
              "      <td>true</td>\n",
              "    </tr>\n",
              "    <tr>\n",
              "      <th>2</th>\n",
              "      <td>Senior U.S. Republican senator: 'Let Mr. Muell...</td>\n",
              "      <td>WASHINGTON (Reuters) - The special counsel inv...</td>\n",
              "      <td>politicsNews</td>\n",
              "      <td>December 31, 2017</td>\n",
              "      <td>true</td>\n",
              "    </tr>\n",
              "    <tr>\n",
              "      <th>3</th>\n",
              "      <td>FBI Russia probe helped by Australian diplomat...</td>\n",
              "      <td>WASHINGTON (Reuters) - Trump campaign adviser ...</td>\n",
              "      <td>politicsNews</td>\n",
              "      <td>December 30, 2017</td>\n",
              "      <td>true</td>\n",
              "    </tr>\n",
              "    <tr>\n",
              "      <th>4</th>\n",
              "      <td>Trump wants Postal Service to charge 'much mor...</td>\n",
              "      <td>SEATTLE/WASHINGTON (Reuters) - President Donal...</td>\n",
              "      <td>politicsNews</td>\n",
              "      <td>December 29, 2017</td>\n",
              "      <td>true</td>\n",
              "    </tr>\n",
              "  </tbody>\n",
              "</table>\n",
              "</div>"
            ],
            "text/plain": [
              "                                               title  \\\n",
              "0  As U.S. budget fight looms, Republicans flip t...   \n",
              "1  U.S. military to accept transgender recruits o...   \n",
              "2  Senior U.S. Republican senator: 'Let Mr. Muell...   \n",
              "3  FBI Russia probe helped by Australian diplomat...   \n",
              "4  Trump wants Postal Service to charge 'much mor...   \n",
              "\n",
              "                                                text       subject  \\\n",
              "0  WASHINGTON (Reuters) - The head of a conservat...  politicsNews   \n",
              "1  WASHINGTON (Reuters) - Transgender people will...  politicsNews   \n",
              "2  WASHINGTON (Reuters) - The special counsel inv...  politicsNews   \n",
              "3  WASHINGTON (Reuters) - Trump campaign adviser ...  politicsNews   \n",
              "4  SEATTLE/WASHINGTON (Reuters) - President Donal...  politicsNews   \n",
              "\n",
              "                 date target  \n",
              "0  December 31, 2017    true  \n",
              "1  December 29, 2017    true  \n",
              "2  December 31, 2017    true  \n",
              "3  December 30, 2017    true  \n",
              "4  December 29, 2017    true  "
            ]
          },
          "execution_count": 8,
          "metadata": {},
          "output_type": "execute_result"
        }
      ],
      "source": [
        "true.head()"
      ]
    },
    {
      "cell_type": "code",
      "execution_count": 9,
      "metadata": {
        "colab": {
          "base_uri": "https://localhost:8080/",
          "height": 206
        },
        "id": "eL-9GBP6EQGh",
        "outputId": "5ff10ff2-37cb-4a6c-9eac-58a70057772c"
      },
      "outputs": [
        {
          "data": {
            "text/html": [
              "<div>\n",
              "<style scoped>\n",
              "    .dataframe tbody tr th:only-of-type {\n",
              "        vertical-align: middle;\n",
              "    }\n",
              "\n",
              "    .dataframe tbody tr th {\n",
              "        vertical-align: top;\n",
              "    }\n",
              "\n",
              "    .dataframe thead th {\n",
              "        text-align: right;\n",
              "    }\n",
              "</style>\n",
              "<table border=\"1\" class=\"dataframe\">\n",
              "  <thead>\n",
              "    <tr style=\"text-align: right;\">\n",
              "      <th></th>\n",
              "      <th>title</th>\n",
              "      <th>text</th>\n",
              "      <th>subject</th>\n",
              "      <th>date</th>\n",
              "      <th>target</th>\n",
              "    </tr>\n",
              "  </thead>\n",
              "  <tbody>\n",
              "    <tr>\n",
              "      <th>0</th>\n",
              "      <td>Donald Trump Sends Out Embarrassing New Year’...</td>\n",
              "      <td>Donald Trump just couldn t wish all Americans ...</td>\n",
              "      <td>News</td>\n",
              "      <td>December 31, 2017</td>\n",
              "      <td>fake</td>\n",
              "    </tr>\n",
              "    <tr>\n",
              "      <th>1</th>\n",
              "      <td>Drunk Bragging Trump Staffer Started Russian ...</td>\n",
              "      <td>House Intelligence Committee Chairman Devin Nu...</td>\n",
              "      <td>News</td>\n",
              "      <td>December 31, 2017</td>\n",
              "      <td>fake</td>\n",
              "    </tr>\n",
              "    <tr>\n",
              "      <th>2</th>\n",
              "      <td>Sheriff David Clarke Becomes An Internet Joke...</td>\n",
              "      <td>On Friday, it was revealed that former Milwauk...</td>\n",
              "      <td>News</td>\n",
              "      <td>December 30, 2017</td>\n",
              "      <td>fake</td>\n",
              "    </tr>\n",
              "    <tr>\n",
              "      <th>3</th>\n",
              "      <td>Trump Is So Obsessed He Even Has Obama’s Name...</td>\n",
              "      <td>On Christmas day, Donald Trump announced that ...</td>\n",
              "      <td>News</td>\n",
              "      <td>December 29, 2017</td>\n",
              "      <td>fake</td>\n",
              "    </tr>\n",
              "    <tr>\n",
              "      <th>4</th>\n",
              "      <td>Pope Francis Just Called Out Donald Trump Dur...</td>\n",
              "      <td>Pope Francis used his annual Christmas Day mes...</td>\n",
              "      <td>News</td>\n",
              "      <td>December 25, 2017</td>\n",
              "      <td>fake</td>\n",
              "    </tr>\n",
              "  </tbody>\n",
              "</table>\n",
              "</div>"
            ],
            "text/plain": [
              "                                               title  \\\n",
              "0   Donald Trump Sends Out Embarrassing New Year’...   \n",
              "1   Drunk Bragging Trump Staffer Started Russian ...   \n",
              "2   Sheriff David Clarke Becomes An Internet Joke...   \n",
              "3   Trump Is So Obsessed He Even Has Obama’s Name...   \n",
              "4   Pope Francis Just Called Out Donald Trump Dur...   \n",
              "\n",
              "                                                text subject  \\\n",
              "0  Donald Trump just couldn t wish all Americans ...    News   \n",
              "1  House Intelligence Committee Chairman Devin Nu...    News   \n",
              "2  On Friday, it was revealed that former Milwauk...    News   \n",
              "3  On Christmas day, Donald Trump announced that ...    News   \n",
              "4  Pope Francis used his annual Christmas Day mes...    News   \n",
              "\n",
              "                date target  \n",
              "0  December 31, 2017   fake  \n",
              "1  December 31, 2017   fake  \n",
              "2  December 30, 2017   fake  \n",
              "3  December 29, 2017   fake  \n",
              "4  December 25, 2017   fake  "
            ]
          },
          "execution_count": 9,
          "metadata": {},
          "output_type": "execute_result"
        }
      ],
      "source": [
        "fake.head()"
      ]
    },
    {
      "cell_type": "code",
      "execution_count": 10,
      "metadata": {
        "colab": {
          "base_uri": "https://localhost:8080/"
        },
        "id": "Xyb62noqESvi",
        "outputId": "d3787c8d-985a-4489-cb41-c13eae10e38a"
      },
      "outputs": [
        {
          "data": {
            "text/plain": [
              "(44896, 5)"
            ]
          },
          "execution_count": 10,
          "metadata": {},
          "output_type": "execute_result"
        }
      ],
      "source": [
        "data = pd.concat([fake, true]).reset_index(drop = True)\n",
        "data.shape"
      ]
    },
    {
      "cell_type": "code",
      "execution_count": 11,
      "metadata": {
        "colab": {
          "base_uri": "https://localhost:8080/",
          "height": 206
        },
        "id": "YFN6-EGWEXQl",
        "outputId": "15125b88-9d10-4227-c4a5-dac39b1fc18d"
      },
      "outputs": [
        {
          "data": {
            "text/html": [
              "<div>\n",
              "<style scoped>\n",
              "    .dataframe tbody tr th:only-of-type {\n",
              "        vertical-align: middle;\n",
              "    }\n",
              "\n",
              "    .dataframe tbody tr th {\n",
              "        vertical-align: top;\n",
              "    }\n",
              "\n",
              "    .dataframe thead th {\n",
              "        text-align: right;\n",
              "    }\n",
              "</style>\n",
              "<table border=\"1\" class=\"dataframe\">\n",
              "  <thead>\n",
              "    <tr style=\"text-align: right;\">\n",
              "      <th></th>\n",
              "      <th>title</th>\n",
              "      <th>text</th>\n",
              "      <th>subject</th>\n",
              "      <th>date</th>\n",
              "      <th>target</th>\n",
              "    </tr>\n",
              "  </thead>\n",
              "  <tbody>\n",
              "    <tr>\n",
              "      <th>0</th>\n",
              "      <td>Donald Trump Sends Out Embarrassing New Year’...</td>\n",
              "      <td>Donald Trump just couldn t wish all Americans ...</td>\n",
              "      <td>News</td>\n",
              "      <td>December 31, 2017</td>\n",
              "      <td>fake</td>\n",
              "    </tr>\n",
              "    <tr>\n",
              "      <th>1</th>\n",
              "      <td>Drunk Bragging Trump Staffer Started Russian ...</td>\n",
              "      <td>House Intelligence Committee Chairman Devin Nu...</td>\n",
              "      <td>News</td>\n",
              "      <td>December 31, 2017</td>\n",
              "      <td>fake</td>\n",
              "    </tr>\n",
              "    <tr>\n",
              "      <th>2</th>\n",
              "      <td>Sheriff David Clarke Becomes An Internet Joke...</td>\n",
              "      <td>On Friday, it was revealed that former Milwauk...</td>\n",
              "      <td>News</td>\n",
              "      <td>December 30, 2017</td>\n",
              "      <td>fake</td>\n",
              "    </tr>\n",
              "    <tr>\n",
              "      <th>3</th>\n",
              "      <td>Trump Is So Obsessed He Even Has Obama’s Name...</td>\n",
              "      <td>On Christmas day, Donald Trump announced that ...</td>\n",
              "      <td>News</td>\n",
              "      <td>December 29, 2017</td>\n",
              "      <td>fake</td>\n",
              "    </tr>\n",
              "    <tr>\n",
              "      <th>4</th>\n",
              "      <td>Pope Francis Just Called Out Donald Trump Dur...</td>\n",
              "      <td>Pope Francis used his annual Christmas Day mes...</td>\n",
              "      <td>News</td>\n",
              "      <td>December 25, 2017</td>\n",
              "      <td>fake</td>\n",
              "    </tr>\n",
              "  </tbody>\n",
              "</table>\n",
              "</div>"
            ],
            "text/plain": [
              "                                               title  \\\n",
              "0   Donald Trump Sends Out Embarrassing New Year’...   \n",
              "1   Drunk Bragging Trump Staffer Started Russian ...   \n",
              "2   Sheriff David Clarke Becomes An Internet Joke...   \n",
              "3   Trump Is So Obsessed He Even Has Obama’s Name...   \n",
              "4   Pope Francis Just Called Out Donald Trump Dur...   \n",
              "\n",
              "                                                text subject  \\\n",
              "0  Donald Trump just couldn t wish all Americans ...    News   \n",
              "1  House Intelligence Committee Chairman Devin Nu...    News   \n",
              "2  On Friday, it was revealed that former Milwauk...    News   \n",
              "3  On Christmas day, Donald Trump announced that ...    News   \n",
              "4  Pope Francis used his annual Christmas Day mes...    News   \n",
              "\n",
              "                date target  \n",
              "0  December 31, 2017   fake  \n",
              "1  December 31, 2017   fake  \n",
              "2  December 30, 2017   fake  \n",
              "3  December 29, 2017   fake  \n",
              "4  December 25, 2017   fake  "
            ]
          },
          "execution_count": 11,
          "metadata": {},
          "output_type": "execute_result"
        }
      ],
      "source": [
        "data.head(5)"
      ]
    },
    {
      "cell_type": "code",
      "execution_count": 12,
      "metadata": {
        "id": "_BRWRvpnEblR"
      },
      "outputs": [],
      "source": [
        "\n",
        "\n",
        "data = data.sample(frac=1).reset_index(drop=True)\n"
      ]
    },
    {
      "cell_type": "code",
      "execution_count": 13,
      "metadata": {
        "colab": {
          "base_uri": "https://localhost:8080/",
          "height": 206
        },
        "id": "qF9c3yH1EnBz",
        "outputId": "1e66008d-0634-4b84-e61a-8a9a9edb32e2"
      },
      "outputs": [
        {
          "data": {
            "text/html": [
              "<div>\n",
              "<style scoped>\n",
              "    .dataframe tbody tr th:only-of-type {\n",
              "        vertical-align: middle;\n",
              "    }\n",
              "\n",
              "    .dataframe tbody tr th {\n",
              "        vertical-align: top;\n",
              "    }\n",
              "\n",
              "    .dataframe thead th {\n",
              "        text-align: right;\n",
              "    }\n",
              "</style>\n",
              "<table border=\"1\" class=\"dataframe\">\n",
              "  <thead>\n",
              "    <tr style=\"text-align: right;\">\n",
              "      <th></th>\n",
              "      <th>title</th>\n",
              "      <th>text</th>\n",
              "      <th>subject</th>\n",
              "      <th>date</th>\n",
              "      <th>target</th>\n",
              "    </tr>\n",
              "  </thead>\n",
              "  <tbody>\n",
              "    <tr>\n",
              "      <th>0</th>\n",
              "      <td>Trump to nominate Quarles to be Fed's top bank...</td>\n",
              "      <td>WASHINGTON (Reuters) - U.S. President Donald T...</td>\n",
              "      <td>politicsNews</td>\n",
              "      <td>July 10, 2017</td>\n",
              "      <td>true</td>\n",
              "    </tr>\n",
              "    <tr>\n",
              "      <th>1</th>\n",
              "      <td>WATCH: An Atheist Just HUMILIATED A Creationi...</td>\n",
              "      <td>A creationist tried to debate an atheist about...</td>\n",
              "      <td>News</td>\n",
              "      <td>July 7, 2016</td>\n",
              "      <td>fake</td>\n",
              "    </tr>\n",
              "    <tr>\n",
              "      <th>2</th>\n",
              "      <td>LIBERALS SEE THE LIGHT! HuffPo Columnist LETS ...</td>\n",
              "      <td></td>\n",
              "      <td>left-news</td>\n",
              "      <td>Dec 31, 2016</td>\n",
              "      <td>fake</td>\n",
              "    </tr>\n",
              "    <tr>\n",
              "      <th>3</th>\n",
              "      <td>TWO RICH WHITE GUYS Who Made A Fortune Selling...</td>\n",
              "      <td>Two white guys living in a state where 96% of ...</td>\n",
              "      <td>left-news</td>\n",
              "      <td>May 18, 2016</td>\n",
              "      <td>fake</td>\n",
              "    </tr>\n",
              "    <tr>\n",
              "      <th>4</th>\n",
              "      <td>U.S. abstains for first time on U.N. call for ...</td>\n",
              "      <td>UNITED NATIONS (Reuters) - The United States o...</td>\n",
              "      <td>politicsNews</td>\n",
              "      <td>October 26, 2016</td>\n",
              "      <td>true</td>\n",
              "    </tr>\n",
              "  </tbody>\n",
              "</table>\n",
              "</div>"
            ],
            "text/plain": [
              "                                               title  \\\n",
              "0  Trump to nominate Quarles to be Fed's top bank...   \n",
              "1   WATCH: An Atheist Just HUMILIATED A Creationi...   \n",
              "2  LIBERALS SEE THE LIGHT! HuffPo Columnist LETS ...   \n",
              "3  TWO RICH WHITE GUYS Who Made A Fortune Selling...   \n",
              "4  U.S. abstains for first time on U.N. call for ...   \n",
              "\n",
              "                                                text       subject  \\\n",
              "0  WASHINGTON (Reuters) - U.S. President Donald T...  politicsNews   \n",
              "1  A creationist tried to debate an atheist about...          News   \n",
              "2                                                        left-news   \n",
              "3  Two white guys living in a state where 96% of ...     left-news   \n",
              "4  UNITED NATIONS (Reuters) - The United States o...  politicsNews   \n",
              "\n",
              "                date target  \n",
              "0     July 10, 2017    true  \n",
              "1       July 7, 2016   fake  \n",
              "2       Dec 31, 2016   fake  \n",
              "3       May 18, 2016   fake  \n",
              "4  October 26, 2016    true  "
            ]
          },
          "execution_count": 13,
          "metadata": {},
          "output_type": "execute_result"
        }
      ],
      "source": [
        "data.head()"
      ]
    },
    {
      "cell_type": "code",
      "execution_count": 14,
      "metadata": {
        "colab": {
          "base_uri": "https://localhost:8080/"
        },
        "id": "ab5r-rPVErhz",
        "outputId": "fcde4468-15dc-4ade-eb11-4063dd623092"
      },
      "outputs": [
        {
          "name": "stdout",
          "output_type": "stream",
          "text": [
            "<class 'pandas.core.frame.DataFrame'>\n",
            "RangeIndex: 44896 entries, 0 to 44895\n",
            "Data columns (total 5 columns):\n",
            " #   Column   Non-Null Count  Dtype \n",
            "---  ------   --------------  ----- \n",
            " 0   title    44896 non-null  object\n",
            " 1   text     44896 non-null  object\n",
            " 2   subject  44896 non-null  object\n",
            " 3   date     44896 non-null  object\n",
            " 4   target   44896 non-null  object\n",
            "dtypes: object(5)\n",
            "memory usage: 1.7+ MB\n"
          ]
        }
      ],
      "source": [
        "data.info()"
      ]
    },
    {
      "cell_type": "code",
      "execution_count": 15,
      "metadata": {
        "colab": {
          "base_uri": "https://localhost:8080/",
          "height": 206
        },
        "id": "6eg8DoxAEymh",
        "outputId": "e02bb446-a606-470d-cd61-8af9fe4c6c67"
      },
      "outputs": [
        {
          "data": {
            "text/html": [
              "<div>\n",
              "<style scoped>\n",
              "    .dataframe tbody tr th:only-of-type {\n",
              "        vertical-align: middle;\n",
              "    }\n",
              "\n",
              "    .dataframe tbody tr th {\n",
              "        vertical-align: top;\n",
              "    }\n",
              "\n",
              "    .dataframe thead th {\n",
              "        text-align: right;\n",
              "    }\n",
              "</style>\n",
              "<table border=\"1\" class=\"dataframe\">\n",
              "  <thead>\n",
              "    <tr style=\"text-align: right;\">\n",
              "      <th></th>\n",
              "      <th>text</th>\n",
              "      <th>subject</th>\n",
              "      <th>date</th>\n",
              "      <th>target</th>\n",
              "    </tr>\n",
              "  </thead>\n",
              "  <tbody>\n",
              "    <tr>\n",
              "      <th>0</th>\n",
              "      <td>WASHINGTON (Reuters) - U.S. President Donald T...</td>\n",
              "      <td>politicsNews</td>\n",
              "      <td>July 10, 2017</td>\n",
              "      <td>true</td>\n",
              "    </tr>\n",
              "    <tr>\n",
              "      <th>1</th>\n",
              "      <td>A creationist tried to debate an atheist about...</td>\n",
              "      <td>News</td>\n",
              "      <td>July 7, 2016</td>\n",
              "      <td>fake</td>\n",
              "    </tr>\n",
              "    <tr>\n",
              "      <th>2</th>\n",
              "      <td></td>\n",
              "      <td>left-news</td>\n",
              "      <td>Dec 31, 2016</td>\n",
              "      <td>fake</td>\n",
              "    </tr>\n",
              "    <tr>\n",
              "      <th>3</th>\n",
              "      <td>Two white guys living in a state where 96% of ...</td>\n",
              "      <td>left-news</td>\n",
              "      <td>May 18, 2016</td>\n",
              "      <td>fake</td>\n",
              "    </tr>\n",
              "    <tr>\n",
              "      <th>4</th>\n",
              "      <td>UNITED NATIONS (Reuters) - The United States o...</td>\n",
              "      <td>politicsNews</td>\n",
              "      <td>October 26, 2016</td>\n",
              "      <td>true</td>\n",
              "    </tr>\n",
              "  </tbody>\n",
              "</table>\n",
              "</div>"
            ],
            "text/plain": [
              "                                                text       subject  \\\n",
              "0  WASHINGTON (Reuters) - U.S. President Donald T...  politicsNews   \n",
              "1  A creationist tried to debate an atheist about...          News   \n",
              "2                                                        left-news   \n",
              "3  Two white guys living in a state where 96% of ...     left-news   \n",
              "4  UNITED NATIONS (Reuters) - The United States o...  politicsNews   \n",
              "\n",
              "                date target  \n",
              "0     July 10, 2017    true  \n",
              "1       July 7, 2016   fake  \n",
              "2       Dec 31, 2016   fake  \n",
              "3       May 18, 2016   fake  \n",
              "4  October 26, 2016    true  "
            ]
          },
          "execution_count": 15,
          "metadata": {},
          "output_type": "execute_result"
        }
      ],
      "source": [
        "data.drop([\"title\"],axis=1,inplace=True)\n",
        "data.head()"
      ]
    },
    {
      "cell_type": "code",
      "execution_count": 16,
      "metadata": {
        "colab": {
          "base_uri": "https://localhost:8080/",
          "height": 206
        },
        "id": "8mCb11UhE7c0",
        "outputId": "e8a4052e-399e-4012-81c2-20320985b214"
      },
      "outputs": [
        {
          "data": {
            "text/html": [
              "<div>\n",
              "<style scoped>\n",
              "    .dataframe tbody tr th:only-of-type {\n",
              "        vertical-align: middle;\n",
              "    }\n",
              "\n",
              "    .dataframe tbody tr th {\n",
              "        vertical-align: top;\n",
              "    }\n",
              "\n",
              "    .dataframe thead th {\n",
              "        text-align: right;\n",
              "    }\n",
              "</style>\n",
              "<table border=\"1\" class=\"dataframe\">\n",
              "  <thead>\n",
              "    <tr style=\"text-align: right;\">\n",
              "      <th></th>\n",
              "      <th>text</th>\n",
              "      <th>subject</th>\n",
              "      <th>date</th>\n",
              "      <th>target</th>\n",
              "    </tr>\n",
              "  </thead>\n",
              "  <tbody>\n",
              "    <tr>\n",
              "      <th>0</th>\n",
              "      <td>washington (reuters) - u.s. president donald t...</td>\n",
              "      <td>politicsNews</td>\n",
              "      <td>July 10, 2017</td>\n",
              "      <td>true</td>\n",
              "    </tr>\n",
              "    <tr>\n",
              "      <th>1</th>\n",
              "      <td>a creationist tried to debate an atheist about...</td>\n",
              "      <td>News</td>\n",
              "      <td>July 7, 2016</td>\n",
              "      <td>fake</td>\n",
              "    </tr>\n",
              "    <tr>\n",
              "      <th>2</th>\n",
              "      <td></td>\n",
              "      <td>left-news</td>\n",
              "      <td>Dec 31, 2016</td>\n",
              "      <td>fake</td>\n",
              "    </tr>\n",
              "    <tr>\n",
              "      <th>3</th>\n",
              "      <td>two white guys living in a state where 96% of ...</td>\n",
              "      <td>left-news</td>\n",
              "      <td>May 18, 2016</td>\n",
              "      <td>fake</td>\n",
              "    </tr>\n",
              "    <tr>\n",
              "      <th>4</th>\n",
              "      <td>united nations (reuters) - the united states o...</td>\n",
              "      <td>politicsNews</td>\n",
              "      <td>October 26, 2016</td>\n",
              "      <td>true</td>\n",
              "    </tr>\n",
              "  </tbody>\n",
              "</table>\n",
              "</div>"
            ],
            "text/plain": [
              "                                                text       subject  \\\n",
              "0  washington (reuters) - u.s. president donald t...  politicsNews   \n",
              "1  a creationist tried to debate an atheist about...          News   \n",
              "2                                                        left-news   \n",
              "3  two white guys living in a state where 96% of ...     left-news   \n",
              "4  united nations (reuters) - the united states o...  politicsNews   \n",
              "\n",
              "                date target  \n",
              "0     July 10, 2017    true  \n",
              "1       July 7, 2016   fake  \n",
              "2       Dec 31, 2016   fake  \n",
              "3       May 18, 2016   fake  \n",
              "4  October 26, 2016    true  "
            ]
          },
          "execution_count": 16,
          "metadata": {},
          "output_type": "execute_result"
        }
      ],
      "source": [
        "data['text'] = data['text'].apply(lambda x: x.lower())\n",
        "data.head()"
      ]
    },
    {
      "cell_type": "code",
      "execution_count": 17,
      "metadata": {
        "id": "OXRDi_5iFBD0"
      },
      "outputs": [],
      "source": [
        "import string\n",
        "\n",
        "def punctuation_removal(text):\n",
        "    all_list = [char for char in text if char not in string.punctuation]\n",
        "    clean_str = ''.join(all_list)\n",
        "    return clean_str\n",
        "\n",
        "data['text'] = data['text'].apply(punctuation_removal)"
      ]
    },
    {
      "cell_type": "code",
      "execution_count": 19,
      "metadata": {
        "colab": {
          "base_uri": "https://localhost:8080/"
        },
        "id": "jQwoQKk7FHpK",
        "outputId": "2581684d-04a6-45ae-9566-faac643ee148"
      },
      "outputs": [
        {
          "ename": "ModuleNotFoundError",
          "evalue": "No module named 'nltk'",
          "output_type": "error",
          "traceback": [
            "\u001b[1;31m---------------------------------------------------------------------------\u001b[0m",
            "\u001b[1;31mModuleNotFoundError\u001b[0m                       Traceback (most recent call last)",
            "Cell \u001b[1;32mIn[19], line 1\u001b[0m\n\u001b[1;32m----> 1\u001b[0m \u001b[38;5;28;01mimport\u001b[39;00m \u001b[38;5;21;01mnltk\u001b[39;00m\n\u001b[0;32m      2\u001b[0m nltk\u001b[38;5;241m.\u001b[39mdownload(\u001b[38;5;124m'\u001b[39m\u001b[38;5;124mstopwords\u001b[39m\u001b[38;5;124m'\u001b[39m)\n\u001b[0;32m      3\u001b[0m \u001b[38;5;28;01mfrom\u001b[39;00m \u001b[38;5;21;01mnltk\u001b[39;00m\u001b[38;5;21;01m.\u001b[39;00m\u001b[38;5;21;01mcorpus\u001b[39;00m \u001b[38;5;28;01mimport\u001b[39;00m stopwords\n",
            "\u001b[1;31mModuleNotFoundError\u001b[0m: No module named 'nltk'"
          ]
        }
      ],
      "source": [
        "import nltk\n",
        "nltk.download('stopwords')\n",
        "from nltk.corpus import stopwords\n",
        "stop = stopwords.words('english')\n",
        "\n",
        "data['text'] = data['text'].apply(lambda x: ' '.join([word for word in x.split() if word not in stop]))"
      ]
    },
    {
      "cell_type": "code",
      "execution_count": 20,
      "metadata": {
        "colab": {
          "base_uri": "https://localhost:8080/",
          "height": 206
        },
        "id": "uEqZktqbFMHK",
        "outputId": "a51dc34c-ab6c-46ec-cffa-193407c503fc"
      },
      "outputs": [
        {
          "data": {
            "text/html": [
              "<div>\n",
              "<style scoped>\n",
              "    .dataframe tbody tr th:only-of-type {\n",
              "        vertical-align: middle;\n",
              "    }\n",
              "\n",
              "    .dataframe tbody tr th {\n",
              "        vertical-align: top;\n",
              "    }\n",
              "\n",
              "    .dataframe thead th {\n",
              "        text-align: right;\n",
              "    }\n",
              "</style>\n",
              "<table border=\"1\" class=\"dataframe\">\n",
              "  <thead>\n",
              "    <tr style=\"text-align: right;\">\n",
              "      <th></th>\n",
              "      <th>text</th>\n",
              "      <th>subject</th>\n",
              "      <th>date</th>\n",
              "      <th>target</th>\n",
              "    </tr>\n",
              "  </thead>\n",
              "  <tbody>\n",
              "    <tr>\n",
              "      <th>0</th>\n",
              "      <td>washington reuters  us president donald trump ...</td>\n",
              "      <td>politicsNews</td>\n",
              "      <td>July 10, 2017</td>\n",
              "      <td>true</td>\n",
              "    </tr>\n",
              "    <tr>\n",
              "      <th>1</th>\n",
              "      <td>a creationist tried to debate an atheist about...</td>\n",
              "      <td>News</td>\n",
              "      <td>July 7, 2016</td>\n",
              "      <td>fake</td>\n",
              "    </tr>\n",
              "    <tr>\n",
              "      <th>2</th>\n",
              "      <td></td>\n",
              "      <td>left-news</td>\n",
              "      <td>Dec 31, 2016</td>\n",
              "      <td>fake</td>\n",
              "    </tr>\n",
              "    <tr>\n",
              "      <th>3</th>\n",
              "      <td>two white guys living in a state where 96 of i...</td>\n",
              "      <td>left-news</td>\n",
              "      <td>May 18, 2016</td>\n",
              "      <td>fake</td>\n",
              "    </tr>\n",
              "    <tr>\n",
              "      <th>4</th>\n",
              "      <td>united nations reuters  the united states on w...</td>\n",
              "      <td>politicsNews</td>\n",
              "      <td>October 26, 2016</td>\n",
              "      <td>true</td>\n",
              "    </tr>\n",
              "  </tbody>\n",
              "</table>\n",
              "</div>"
            ],
            "text/plain": [
              "                                                text       subject  \\\n",
              "0  washington reuters  us president donald trump ...  politicsNews   \n",
              "1  a creationist tried to debate an atheist about...          News   \n",
              "2                                                        left-news   \n",
              "3  two white guys living in a state where 96 of i...     left-news   \n",
              "4  united nations reuters  the united states on w...  politicsNews   \n",
              "\n",
              "                date target  \n",
              "0     July 10, 2017    true  \n",
              "1       July 7, 2016   fake  \n",
              "2       Dec 31, 2016   fake  \n",
              "3       May 18, 2016   fake  \n",
              "4  October 26, 2016    true  "
            ]
          },
          "execution_count": 20,
          "metadata": {},
          "output_type": "execute_result"
        }
      ],
      "source": [
        "data.head()"
      ]
    },
    {
      "cell_type": "code",
      "execution_count": 21,
      "metadata": {
        "colab": {
          "base_uri": "https://localhost:8080/",
          "height": 586
        },
        "id": "EMk9ZHSyFTEn",
        "outputId": "d03926c5-350d-43b4-db57-6fa825594014"
      },
      "outputs": [
        {
          "data": {
            "image/png": "[encoded data removed]",
            "text/plain": [
              "<Figure size 640x480 with 1 Axes>"
            ]
          },
          "metadata": {},
          "output_type": "display_data"
        }
      ],
      "source": [
        "\n",
        "count_by_subject = data.groupby('subject')['text'].count()\n",
        "count_by_subject.plot(kind='bar', color='purple')  # Change 'purple' to your desired color\n",
        "plt.xlabel('Subject')\n",
        "plt.ylabel('Count')\n",
        "plt.title('Text Count by Subject')\n",
        "plt.show()\n"
      ]
    },
    {
      "cell_type": "code",
      "execution_count": 22,
      "metadata": {
        "colab": {
          "base_uri": "https://localhost:8080/",
          "height": 616
        },
        "id": "m7skG_jPGJNW",
        "outputId": "b6c6bafc-c06d-4af1-fe46-2dffa4286ca0"
      },
      "outputs": [
        {
          "name": "stdout",
          "output_type": "stream",
          "text": [
            "  target   text\n",
            "0   fake  23480\n",
            "1   true  21416\n"
          ]
        },
        {
          "data": {
            "image/png": "[encoded data removed]",
            "text/plain": [
              "<Figure size 800x600 with 1 Axes>"
            ]
          },
          "metadata": {},
          "output_type": "display_data"
        }
      ],
      "source": [
        "# Group the data and count 'text' occurrences\n",
        "grouped_data = data.groupby('target')['text'].count().reset_index()\n",
        "\n",
        "# Print the counts\n",
        "print(grouped_data)\n",
        "\n",
        "# Create a bar plot\n",
        "plt.figure(figsize=(8, 6))\n",
        "sns.barplot(data=grouped_data, x='target', y='text')\n",
        "plt.xlabel('Target')\n",
        "plt.ylabel('Count of text')\n",
        "plt.title('Count of Text by Target')\n",
        "plt.show()"
      ]
    },
    {
      "cell_type": "code",
      "execution_count": 23,
      "metadata": {
        "id": "fuDsrYqdGxhL"
      },
      "outputs": [],
      "source": [
        "fake_news_detection_tools = []\n",
        "\n",
        "results = []\n",
        "for tool in fake_news_detection_tools:\n",
        "    response = requests.post(tool['api_url'], json={'text': test_data})\n",
        "    result = response.json()\n",
        "    results.append(result)"
      ]
    },
    {
      "cell_type": "code",
      "execution_count": 27,
      "metadata": {
        "colab": {
          "base_uri": "https://localhost:8080/"
        },
        "id": "7Lq4dLWaHIg_",
        "outputId": "7fbc5e22-5e98-41e3-c183-03450fc6c541"
      },
      "outputs": [
        {
          "name": "stdout",
          "output_type": "stream",
          "text": [
            "+---+--------+-------------+---------------+------------------+-----------+-----------------------+-------------+----------+-------------+-------------+-------------+\n",
            "|   |  Tool  | Methodology | Functionality | API Availability | Paid/Free | Integration in Python | Open Source | Accuracy | Credibility | Reliability | Performance |\n",
            "+---+--------+-------------+---------------+------------------+-----------+-----------------------+-------------+----------+-------------+-------------+-------------+\n",
            "| 0 | Tool 1 |  Method 1   |    Func 1     |       Yes        |   Paid    |          Yes          |     Yes     |   0.85   |    0.75     |     0.9     |     0.8     |\n",
            "| 1 | Tool 2 |  Method 2   |    Func 2     |       Yes        |   Free    |          No           |     Yes     |   0.78   |     0.8     |    0.85     |    0.75     |\n",
            "| 2 | Tool 3 |  Method 3   |    Func 3     |        No        |   Free    |          Yes          |     No      |   0.92   |    0.95     |    0.88     |    0.88     |\n",
            "+---+--------+-------------+---------------+------------------+-----------+-----------------------+-------------+----------+-------------+-------------+-------------+\n"
          ]
        }
      ],
      "source": [
        "import pandas as pd\n",
        "from tabulate import tabulate\n",
        "\n",
        "# List of fake news detection tools and their respective metrics\n",
        "tools = ['Tool 1', 'Tool 2', 'Tool 3']\n",
        "metrics = {\n",
        "    'Methodology': ['Method 1', 'Method 2', 'Method 3'],\n",
        "    'Functionality': ['Func 1', 'Func 2', 'Func 3'],\n",
        "    'API Availability': ['Yes', 'Yes', 'No'],\n",
        "    'Paid/Free': ['Paid', 'Free', 'Free'],\n",
        "    'Integration in Python': ['Yes', 'No', 'Yes'],\n",
        "    'Open Source': ['Yes', 'Yes', 'No'],\n",
        "    'Accuracy': [0.85, 0.78, 0.92],\n",
        "    'Credibility': [0.75, 0.80, 0.95],\n",
        "    'Reliability': [0.90, 0.85, 0.88],\n",
        "    'Performance': [0.80, 0.75, 0.88]\n",
        "}\n",
        "\n",
        "# Create a DataFrame using the metrics\n",
        "data = {'Tool': tools}\n",
        "data.update(metrics)\n",
        "df = pd.DataFrame(data)\n",
        "\n",
        "# Print the comparison table using tabulate\n",
        "table_str = tabulate(df, headers='keys', tablefmt='pretty')\n",
        "\n",
        "print(table_str)\n"
      ]
    },
    {
      "cell_type": "code",
      "execution_count": 28,
      "metadata": {
        "colab": {
          "base_uri": "https://localhost:8080/",
          "height": 1000
        },
        "id": "Snt1ud17HZLX",
        "outputId": "cb3e17e2-3c73-4a17-b234-5482ac8ba15c"
      },
      "outputs": [
        {
          "data": {
            "image/png": "[encoded data removed]",
            "text/plain": [
              "<Figure size 1000x600 with 1 Axes>"
            ]
          },
          "metadata": {},
          "output_type": "display_data"
        },
        {
          "data": {
            "image/png": "[encoded data removed]",
            "text/plain": [
              "<Figure size 1000x600 with 1 Axes>"
            ]
          },
          "metadata": {},
          "output_type": "display_data"
        },
        {
          "data": {
            "image/png": "[encoded data removed]",
            "text/plain": [
              "<Figure size 1000x600 with 1 Axes>"
            ]
          },
          "metadata": {},
          "output_type": "display_data"
        },
        {
          "data": {
            "image/png": "[encoded data removed]",
            "text/plain": [
              "<Figure size 1000x600 with 1 Axes>"
            ]
          },
          "metadata": {},
          "output_type": "display_data"
        }
      ],
      "source": [
        "\n",
        "# List of fake news detection tools\n",
        "fake_news_detection_tools = ['Tool 1', 'Tool 2', 'Tool 3']\n",
        "\n",
        "# List of dictionaries containing metric results for each tool\n",
        "results = [\n",
        "    {'accuracy': 0.85, 'credibility': 0.75, 'reliability': 0.90, 'performance': 0.80},\n",
        "    {'accuracy': 0.78, 'credibility': 0.80, 'reliability': 0.85, 'performance': 0.75},\n",
        "    {'accuracy': 0.92, 'credibility': 0.95, 'reliability': 0.88, 'performance': 0.88}\n",
        "]\n",
        "\n",
        "# Define the metrics to compare\n",
        "parameter_metrics = ['accuracy', 'credibility', 'reliability', 'performance']\n",
        "\n",
        "# Iterate over each metric\n",
        "for metric in parameter_metrics:\n",
        "    metric_values = [result[metric] for result in results]\n",
        "\n",
        "    # Create a bar plot\n",
        "    plt.figure(figsize=(10, 6))\n",
        "    plt.bar(fake_news_detection_tools, metric_values, color='blue')\n",
        "    plt.xlabel('Fake News Detection Tools')\n",
        "    plt.ylabel(metric.capitalize())\n",
        "    plt.title(f'{metric.capitalize()} Comparison')\n",
        "    plt.xticks(rotation=45)\n",
        "    plt.tight_layout()\n",
        "    plt.show()\n"
      ]
    },
    {
      "cell_type": "code",
      "execution_count": 29,
      "metadata": {
        "colab": {
          "base_uri": "https://localhost:8080/",
          "height": 472
        },
        "id": "hnMIbwcNI7L3",
        "outputId": "1746340e-7189-4182-a26c-b8648d853979"
      },
      "outputs": [
        {
          "data": {
            "image/png": "[encoded data removed]",
            "text/plain": [
              "<Figure size 640x480 with 1 Axes>"
            ]
          },
          "metadata": {},
          "output_type": "display_data"
        }
      ],
      "source": [
        "# Define your image detection results, assuming 'is_fake' is a key in each dictionary\n",
        "image_results = [\n",
        "    {'is_fake': True},\n",
        "    {'is_fake': False},\n",
        "    {'is_fake': True},\n",
        "    {'is_fake': False},\n",
        "    # Add more results as needed\n",
        "]\n",
        "\n",
        "# Count the number of true positive, true negative, false positive, and false negative\n",
        "true_positive = sum(result['is_fake'] for result in image_results)\n",
        "true_negative = sum(not result['is_fake'] for result in image_results)\n",
        "false_positive = sum(not result['is_fake'] for result in image_results)\n",
        "false_negative = sum(result['is_fake'] for result in image_results)\n",
        "\n",
        "# Create a bar plot to visualize the distribution\n",
        "labels = ['True Positive', 'True Negative', 'False Positive', 'False Negative']\n",
        "values = [true_positive, true_negative, false_positive, false_negative]\n",
        "\n",
        "plt.figure()\n",
        "plt.bar(labels, values)\n",
        "plt.title('Image-based Fake News Detection Results')\n",
        "plt.xlabel('Detection Outcome')\n",
        "plt.ylabel('Count')\n",
        "\n",
        "# Save the visualization as an image\n",
        "plt.savefig('image_detection_results.png')\n",
        "\n",
        "# Display the visualization\n",
        "plt.show()"
      ]
    },
    {
      "cell_type": "code",
      "execution_count": 30,
      "metadata": {
        "colab": {
          "base_uri": "https://localhost:8080/",
          "height": 669
        },
        "id": "eHcon0-oQl2G",
        "outputId": "ec08021b-9dee-4229-cc1d-b5cf2c4af8e2"
      },
      "outputs": [
        {
          "data": {
            "image/png": "[encoded data removed]",
            "text/plain": [
              "<Figure size 1000x700 with 1 Axes>"
            ]
          },
          "metadata": {},
          "output_type": "display_data"
        }
      ],
      "source": [
        "import pandas as pd\n",
        "import matplotlib.pyplot as plt\n",
        "\n",
        "# Assuming your data is a dictionary, convert it to a DataFrame\n",
        "data = pd.DataFrame(data)\n",
        "\n",
        "# Choose the 'Functionality' column for analysis\n",
        "column_name = 'Functionality'\n",
        "\n",
        "# Count the frequency of values in the chosen column\n",
        "column_counts = data[column_name].value_counts()\n",
        "\n",
        "# Select the top N most common values to display\n",
        "top_values = column_counts.head(10)  # Change 10 to the desired number of top values\n",
        "\n",
        "# Create a bar chart for the top values\n",
        "plt.figure(figsize=(10, 7))\n",
        "top_values.plot(kind='bar', color='blue')  # Change 'blue' to your desired color\n",
        "plt.title(f'Top Values in {column_name}')\n",
        "plt.xlabel(column_name)\n",
        "plt.ylabel('Frequency')\n",
        "plt.xticks(rotation=45)\n",
        "plt.show()\n"
      ]
    },
    {
      "cell_type": "code",
      "execution_count": 32,
      "metadata": {
        "colab": {
          "base_uri": "https://localhost:8080/"
        },
        "id": "yzzVynmvRtvn",
        "outputId": "d88a3f2b-e3f9-462d-c20b-58dc613679ea"
      },
      "outputs": [
        {
          "name": "stderr",
          "output_type": "stream",
          "text": [
            "[nltk_data] Downloading package punkt to\n",
            "[nltk_data]     C:\\Users\\Mike\\AppData\\Roaming\\nltk_data...\n",
            "[nltk_data]   Unzipping tokenizers\\punkt.zip.\n"
          ]
        }
      ],
      "source": [
        "import nltk\n",
        "from nltk import tokenize\n",
        "import seaborn as sns\n",
        "import matplotlib.pyplot as plt\n",
        "import pandas as pd\n",
        "\n",
        "# Download the required resources (if not already downloaded)\n",
        "nltk.download(\"punkt\")\n",
        "\n",
        "token_space = tokenize.WhitespaceTokenizer()\n",
        "\n",
        "def word_frequency_counter(data, text_column, top_quantity):\n",
        "    # Combine all text from the specified column\n",
        "    all_text = ' '.join(data[text_column])\n",
        "\n",
        "    # Tokenize the text\n",
        "    tokenized_text = token_space.tokenize(all_text)\n",
        "\n",
        "    # Calculate word frequency\n",
        "    word_frequency = nltk.FreqDist(tokenized_text)\n",
        "\n",
        "    # Create a DataFrame for the top words\n",
        "    top_words_df = pd.DataFrame({\"Word\": list(word_frequency.keys()),\n",
        "                                 \"Frequency\": list(word_frequency.values())})\n",
        "\n",
        "    # Select the top N most frequent words\n",
        "    top_words_df = top_words_df.nlargest(columns=\"Frequency\", n=top_quantity)\n",
        "\n",
        "    # Create a bar plot to visualize word frequencies\n",
        "    plt.figure(figsize=(12, 8))\n",
        "    ax = sns.barplot(data=top_words_df, x=\"Word\", y=\"Frequency\", color='green')  # Change 'green' to your desired color\n",
        "    ax.set(ylabel=\"Count\")\n",
        "    plt.xticks(rotation='vertical')\n",
        "    plt.show()\n",
        "\n",
        "# Example usage:\n",
        "# word_frequency_counter(data, \"text\", 10)  # Count and visualize the top 10 most frequent words\n"
      ]
    },
    {
      "cell_type": "code",
      "execution_count": 33,
      "metadata": {
        "id": "cpvojPJ2STkA"
      },
      "outputs": [],
      "source": [
        "from nltk import tokenize\n",
        "import seaborn as sns\n",
        "\n",
        "token_space = tokenize.WhitespaceTokenizer()\n",
        "\n",
        "def word_frequency_counter(data, text_column, top_quantity):\n",
        "    # Filter data for \"true\" news\n",
        "    true_data = data[data[\"target\"] == \"true\"]\n",
        "\n",
        "    # Combine all text from the specified column\n",
        "    all_text = ' '.join(true_data[text_column])\n",
        "\n",
        "    # Tokenize the text\n",
        "    tokenized_text = token_space.tokenize(all_text)\n",
        "\n",
        "    # Calculate word frequency\n",
        "    word_frequency = nltk.FreqDist(tokenized_text)\n",
        "\n",
        "    # Create a DataFrame for the top words\n",
        "    top_words_df = pd.DataFrame({\"Word\": list(word_frequency.keys()),\n",
        "                                 \"Frequency\": list(word_frequency.values())})\n",
        "\n",
        "    # Select the top N most frequent words\n",
        "    top_words_df = top_words_df.nlargest(columns=\"Frequency\", n=top_quantity)\n",
        "\n",
        "    # Create a horizontal bar plot to visualize word frequencies\n",
        "    plt.figure(figsize=(12, 8))\n",
        "    ax = sns.barplot(data=top_words_df, x=\"Frequency\", y=\"Word\", color='purple')  # Change 'purple' to your desired color\n",
        "    ax.set(xlabel=\"Count\")\n",
        "    plt.show()\n",
        "\n",
        "# Example usage:\n",
        "# word_frequency_counter(data, \"text\", 20)  # Count and visualize the top 20 most frequent words in \"true\" news\n"
      ]
    },
    {
      "cell_type": "code",
      "execution_count": 34,
      "metadata": {
        "id": "4q6Ezin3Scjg"
      },
      "outputs": [],
      "source": [
        "import itertools\n",
        "import numpy as np\n",
        "import matplotlib.pyplot as plt\n",
        "\n",
        "from sklearn import metrics\n",
        "\n",
        "def plot_confusion_matrix(confusion_matrix, class_labels,\n",
        "                          normalize=False,\n",
        "                          title='Confusion Matrix',\n",
        "                          cmap=plt.cm.Blues):\n",
        "\n",
        "    plt.figure(figsize=(8, 6))\n",
        "    plt.imshow(confusion_matrix, interpolation='nearest', cmap=cmap)\n",
        "    plt.title(title)\n",
        "    plt.colorbar()\n",
        "\n",
        "    tick_marks = np.arange(len(class_labels))\n",
        "    plt.xticks(tick_marks, class_labels, rotation=45)\n",
        "    plt.yticks(tick_marks, class_labels)\n",
        "\n",
        "    if normalize:\n",
        "        confusion_matrix = confusion_matrix.astype('float') / confusion_matrix.sum(axis=1)[:, np.newaxis]\n",
        "        print(\"Normalized Confusion Matrix\")\n",
        "    else:\n",
        "        print('Confusion Matrix (Not Normalized)')\n",
        "\n",
        "    threshold = confusion_matrix.max() / 2.\n",
        "    for i, j in itertools.product(range(confusion_matrix.shape[0]), range(confusion_matrix.shape[1])):\n",
        "        plt.text(j, i, \"{:.2f}\".format(confusion_matrix[i, j]),\n",
        "                 horizontalalignment=\"center\",\n",
        "                 color=\"white\" if confusion_matrix[i, j] > threshold else \"black\")\n",
        "\n",
        "    plt.tight_layout()\n",
        "    plt.ylabel('True Label')\n",
        "    plt.xlabel('Predicted Label')\n",
        "    plt.show()\n",
        "\n",
        "# Example usage:\n",
        "# plot_confusion_matrix(your_confusion_matrix, your_class_labels, normalize=True, title='Normalized Confusion Matrix')\n"
      ]
    },
    {
      "cell_type": "code",
      "execution_count": 35,
      "metadata": {
        "colab": {
          "base_uri": "https://localhost:8080/",
          "height": 507
        },
        "id": "4gZWnZOJGvc8",
        "outputId": "e21ba422-1aeb-4b4a-d7c9-0778c5b6a492"
      },
      "outputs": [
        {
          "data": {
            "image/png": "[encoded data removed]",
            "text/plain": [
              "<Figure size 800x500 with 1 Axes>"
            ]
          },
          "metadata": {},
          "output_type": "display_data"
        }
      ],
      "source": [
        "import matplotlib.pyplot as plt\n",
        "\n",
        "# Threat types and their respective percentages\n",
        "threats = ['Malware', 'Phishing', 'APTs', 'Insider Threats']\n",
        "percentages = [98, 92, 94, 89]\n",
        "\n",
        "# Create a bar chart\n",
        "plt.figure(figsize=(8, 5))\n",
        "plt.bar(threats, percentages, color='green')\n",
        "plt.xlabel('Threat Types')\n",
        "plt.ylabel('Detection Percentage (%)')\n",
        "plt.title('Percentage of Detected Threat Types by SIEM Systems')\n",
        "plt.ylim(0, 100)  # Set the y-axis limits\n",
        "plt.grid(axis='y', linestyle='--', alpha=0.7)\n",
        "\n",
        "# Add percentage labels above the bars\n",
        "for i, percentage in enumerate(percentages):\n",
        "    plt.text(i, percentage + 2, f'{percentage}%', ha='center', va='bottom', fontsize=12, fontweight='bold')\n",
        "\n",
        "# Display the plot\n",
        "plt.tight_layout()\n",
        "plt.show()\n"
      ]
    },
    {
      "cell_type": "code",
      "execution_count": 36,
      "metadata": {
        "colab": {
          "base_uri": "https://localhost:8080/"
        },
        "id": "V48FX6KZBLi0",
        "outputId": "7d0a7b85-9b87-433f-d89b-dabcf608d581"
      },
      "outputs": [
        {
          "data": {
            "text/plain": [
              "(44896, 5)"
            ]
          },
          "execution_count": 36,
          "metadata": {},
          "output_type": "execute_result"
        }
      ],
      "source": [
        "data = pd.concat([fake, true]).reset_index(drop = True)\n",
        "data.shape"
      ]
    },
    {
      "cell_type": "code",
      "execution_count": 37,
      "metadata": {
        "colab": {
          "base_uri": "https://localhost:8080/",
          "height": 206
        },
        "id": "-X5QOoytH_ow",
        "outputId": "091793a1-db4f-448c-889b-8ee24fe1361d"
      },
      "outputs": [
        {
          "data": {
            "text/html": [
              "<div>\n",
              "<style scoped>\n",
              "    .dataframe tbody tr th:only-of-type {\n",
              "        vertical-align: middle;\n",
              "    }\n",
              "\n",
              "    .dataframe tbody tr th {\n",
              "        vertical-align: top;\n",
              "    }\n",
              "\n",
              "    .dataframe thead th {\n",
              "        text-align: right;\n",
              "    }\n",
              "</style>\n",
              "<table border=\"1\" class=\"dataframe\">\n",
              "  <thead>\n",
              "    <tr style=\"text-align: right;\">\n",
              "      <th></th>\n",
              "      <th>title</th>\n",
              "      <th>text</th>\n",
              "      <th>subject</th>\n",
              "      <th>date</th>\n",
              "      <th>target</th>\n",
              "    </tr>\n",
              "  </thead>\n",
              "  <tbody>\n",
              "    <tr>\n",
              "      <th>0</th>\n",
              "      <td>Donald Trump Sends Out Embarrassing New Year’...</td>\n",
              "      <td>Donald Trump just couldn t wish all Americans ...</td>\n",
              "      <td>News</td>\n",
              "      <td>December 31, 2017</td>\n",
              "      <td>fake</td>\n",
              "    </tr>\n",
              "    <tr>\n",
              "      <th>1</th>\n",
              "      <td>Drunk Bragging Trump Staffer Started Russian ...</td>\n",
              "      <td>House Intelligence Committee Chairman Devin Nu...</td>\n",
              "      <td>News</td>\n",
              "      <td>December 31, 2017</td>\n",
              "      <td>fake</td>\n",
              "    </tr>\n",
              "    <tr>\n",
              "      <th>2</th>\n",
              "      <td>Sheriff David Clarke Becomes An Internet Joke...</td>\n",
              "      <td>On Friday, it was revealed that former Milwauk...</td>\n",
              "      <td>News</td>\n",
              "      <td>December 30, 2017</td>\n",
              "      <td>fake</td>\n",
              "    </tr>\n",
              "    <tr>\n",
              "      <th>3</th>\n",
              "      <td>Trump Is So Obsessed He Even Has Obama’s Name...</td>\n",
              "      <td>On Christmas day, Donald Trump announced that ...</td>\n",
              "      <td>News</td>\n",
              "      <td>December 29, 2017</td>\n",
              "      <td>fake</td>\n",
              "    </tr>\n",
              "    <tr>\n",
              "      <th>4</th>\n",
              "      <td>Pope Francis Just Called Out Donald Trump Dur...</td>\n",
              "      <td>Pope Francis used his annual Christmas Day mes...</td>\n",
              "      <td>News</td>\n",
              "      <td>December 25, 2017</td>\n",
              "      <td>fake</td>\n",
              "    </tr>\n",
              "  </tbody>\n",
              "</table>\n",
              "</div>"
            ],
            "text/plain": [
              "                                               title  \\\n",
              "0   Donald Trump Sends Out Embarrassing New Year’...   \n",
              "1   Drunk Bragging Trump Staffer Started Russian ...   \n",
              "2   Sheriff David Clarke Becomes An Internet Joke...   \n",
              "3   Trump Is So Obsessed He Even Has Obama’s Name...   \n",
              "4   Pope Francis Just Called Out Donald Trump Dur...   \n",
              "\n",
              "                                                text subject  \\\n",
              "0  Donald Trump just couldn t wish all Americans ...    News   \n",
              "1  House Intelligence Committee Chairman Devin Nu...    News   \n",
              "2  On Friday, it was revealed that former Milwauk...    News   \n",
              "3  On Christmas day, Donald Trump announced that ...    News   \n",
              "4  Pope Francis used his annual Christmas Day mes...    News   \n",
              "\n",
              "                date target  \n",
              "0  December 31, 2017   fake  \n",
              "1  December 31, 2017   fake  \n",
              "2  December 30, 2017   fake  \n",
              "3  December 29, 2017   fake  \n",
              "4  December 25, 2017   fake  "
            ]
          },
          "execution_count": 37,
          "metadata": {},
          "output_type": "execute_result"
        }
      ],
      "source": [
        "data.head ()\n"
      ]
    },
    {
      "cell_type": "code",
      "execution_count": 38,
      "metadata": {
        "colab": {
          "base_uri": "https://localhost:8080/",
          "height": 206
        },
        "id": "zJ7XqcdhIEiH",
        "outputId": "f82e2cee-605a-4293-f62e-f4402e854141"
      },
      "outputs": [
        {
          "data": {
            "text/html": [
              "<div>\n",
              "<style scoped>\n",
              "    .dataframe tbody tr th:only-of-type {\n",
              "        vertical-align: middle;\n",
              "    }\n",
              "\n",
              "    .dataframe tbody tr th {\n",
              "        vertical-align: top;\n",
              "    }\n",
              "\n",
              "    .dataframe thead th {\n",
              "        text-align: right;\n",
              "    }\n",
              "</style>\n",
              "<table border=\"1\" class=\"dataframe\">\n",
              "  <thead>\n",
              "    <tr style=\"text-align: right;\">\n",
              "      <th></th>\n",
              "      <th>title</th>\n",
              "      <th>text</th>\n",
              "      <th>subject</th>\n",
              "      <th>date</th>\n",
              "      <th>target</th>\n",
              "    </tr>\n",
              "  </thead>\n",
              "  <tbody>\n",
              "    <tr>\n",
              "      <th>44891</th>\n",
              "      <td>'Fully committed' NATO backs new U.S. approach...</td>\n",
              "      <td>BRUSSELS (Reuters) - NATO allies on Tuesday we...</td>\n",
              "      <td>worldnews</td>\n",
              "      <td>August 22, 2017</td>\n",
              "      <td>true</td>\n",
              "    </tr>\n",
              "    <tr>\n",
              "      <th>44892</th>\n",
              "      <td>LexisNexis withdrew two products from Chinese ...</td>\n",
              "      <td>LONDON (Reuters) - LexisNexis, a provider of l...</td>\n",
              "      <td>worldnews</td>\n",
              "      <td>August 22, 2017</td>\n",
              "      <td>true</td>\n",
              "    </tr>\n",
              "    <tr>\n",
              "      <th>44893</th>\n",
              "      <td>Minsk cultural hub becomes haven from authorities</td>\n",
              "      <td>MINSK (Reuters) - In the shadow of disused Sov...</td>\n",
              "      <td>worldnews</td>\n",
              "      <td>August 22, 2017</td>\n",
              "      <td>true</td>\n",
              "    </tr>\n",
              "    <tr>\n",
              "      <th>44894</th>\n",
              "      <td>Vatican upbeat on possibility of Pope Francis ...</td>\n",
              "      <td>MOSCOW (Reuters) - Vatican Secretary of State ...</td>\n",
              "      <td>worldnews</td>\n",
              "      <td>August 22, 2017</td>\n",
              "      <td>true</td>\n",
              "    </tr>\n",
              "    <tr>\n",
              "      <th>44895</th>\n",
              "      <td>Indonesia to buy $1.14 billion worth of Russia...</td>\n",
              "      <td>JAKARTA (Reuters) - Indonesia will buy 11 Sukh...</td>\n",
              "      <td>worldnews</td>\n",
              "      <td>August 22, 2017</td>\n",
              "      <td>true</td>\n",
              "    </tr>\n",
              "  </tbody>\n",
              "</table>\n",
              "</div>"
            ],
            "text/plain": [
              "                                                   title  \\\n",
              "44891  'Fully committed' NATO backs new U.S. approach...   \n",
              "44892  LexisNexis withdrew two products from Chinese ...   \n",
              "44893  Minsk cultural hub becomes haven from authorities   \n",
              "44894  Vatican upbeat on possibility of Pope Francis ...   \n",
              "44895  Indonesia to buy $1.14 billion worth of Russia...   \n",
              "\n",
              "                                                    text    subject  \\\n",
              "44891  BRUSSELS (Reuters) - NATO allies on Tuesday we...  worldnews   \n",
              "44892  LONDON (Reuters) - LexisNexis, a provider of l...  worldnews   \n",
              "44893  MINSK (Reuters) - In the shadow of disused Sov...  worldnews   \n",
              "44894  MOSCOW (Reuters) - Vatican Secretary of State ...  worldnews   \n",
              "44895  JAKARTA (Reuters) - Indonesia will buy 11 Sukh...  worldnews   \n",
              "\n",
              "                   date target  \n",
              "44891  August 22, 2017    true  \n",
              "44892  August 22, 2017    true  \n",
              "44893  August 22, 2017    true  \n",
              "44894  August 22, 2017    true  \n",
              "44895  August 22, 2017    true  "
            ]
          },
          "execution_count": 38,
          "metadata": {},
          "output_type": "execute_result"
        }
      ],
      "source": [
        "data.tail ()"
      ]
    },
    {
      "cell_type": "markdown",
      "metadata": {
        "id": "9H30sQLWK24q"
      },
      "source": [
        "## Model training"
      ]
    },
    {
      "cell_type": "code",
      "execution_count": 39,
      "metadata": {
        "id": "zR-99DjjS-Vf"
      },
      "outputs": [],
      "source": [
        "from sklearn.pipeline import Pipeline\n",
        "from sklearn.feature_extraction.text import TfidfVectorizer\n",
        "from sklearn.svm import SVC\n",
        "\n",
        "pipeline = Pipeline([\n",
        "    ('tfidf', TfidfVectorizer()),\n",
        "    ('clf', SVC())\n",
        "])\n",
        "\n"
      ]
    },
    {
      "cell_type": "code",
      "execution_count": 40,
      "metadata": {
        "colab": {
          "base_uri": "https://localhost:8080/"
        },
        "id": "OUz4DgTUBBSM",
        "outputId": "45050499-6fee-4efe-80b0-8d65e8b25ce0"
      },
      "outputs": [
        {
          "name": "stdout",
          "output_type": "stream",
          "text": [
            "Class distribution before split: target\n",
            "fake    23480\n",
            "true    21416\n",
            "Name: count, dtype: int64\n",
            "Class distribution in training set: target\n",
            "fake    18784\n",
            "true    17132\n",
            "Name: count, dtype: int64\n"
          ]
        }
      ],
      "source": [
        "\n",
        "class_counts = data['target'].value_counts()\n",
        "print(\"Class distribution before split:\", class_counts)\n",
        "\n",
        "X_train, X_test, y_train, y_test = train_test_split(\n",
        "    data['text'],\n",
        "    data['target'],\n",
        "    test_size=0.2,\n",
        "    random_state=42,\n",
        "    stratify=data['target']  \n",
        ")\n",
        "\n",
        "train_class_counts = pd.Series(y_train).value_counts()\n",
        "print(\"Class distribution in training set:\", train_class_counts)\n",
        "if len(train_class_counts) > 1:\n",
        "    pipeline.fit(X_train, y_train)\n",
        "    predictions = pipeline.predict(X_test)\n",
        "    accuracy = accuracy_score(y_test, predictions)\n",
        "    report = classification_report(y_test, predictions)\n",
        "    print(\"Model trained successfully. Accuracy:\", accuracy)\n",
        "    print(\"Classification Report:\\n\", report)\n",
        "else:\n",
        "    print(\"Training halted, insufficient class diversity in the training set.\")\n"
      ]
    },
    {
      "cell_type": "markdown",
      "metadata": {
        "id": "YVz6KkbMLArd"
      },
      "source": [
        "##Python Code for Model Testing and Validation"
      ]
    },
    {
      "cell_type": "code",
      "execution_count": null,
      "metadata": {
        "id": "HjmZqqRCJR2H"
      },
      "outputs": [],
      "source": [
        "import pandas as pd\n",
        "from sklearn.model_selection import train_test_split, cross_val_score\n",
        "from sklearn.feature_extraction.text import TfidfVectorizer\n",
        "from sklearn.linear_model import LogisticRegression\n",
        "from sklearn.pipeline import Pipeline\n",
        "from sklearn.metrics import classification_report, accuracy_score\n",
        "\n",
        "X_train, X_test, y_train, y_test = train_test_split(\n",
        "    data['text'],\n",
        "    data['target'],\n",
        "    test_size=0.3, \n",
        "    random_state=42,\n",
        "    stratify=data['target'] \n",
        ")\n",
        "\n",
        "pipeline = Pipeline([\n",
        "    ('tfidf', TfidfVectorizer(stop_words='english')),\n",
        "    ('classifier', LogisticRegression(solver='liblinear'))\n",
        "])\n",
        "\n",
        "pipeline.fit(X_train, y_train)\n",
        "\n",
        "predictions = pipeline.predict(X_test)\n",
        "accuracy = accuracy_score(y_test, predictions)\n",
        "report = classification_report(y_test, predictions)\n",
        "\n",
        "print(\"Accuracy:\", accuracy)\n",
        "print(\"Classification Report:\\n\", report)\n",
        "scores = cross_val_score(pipeline, data['text'], data['target'], cv=5)\n",
        "print(\"Cross-Validation Accuracy Scores:\", scores)\n",
        "print(\"Average CV Accuracy:\", scores.mean())\n"
      ]
    },
    {
      "cell_type": "code",
      "execution_count": null,
      "metadata": {
        "id": "HIWQakzvPJ6G"
      },
      "outputs": [],
      "source": [
        "import pickle\n",
        "with open('model.pkl', 'wb') as file:\n",
        "    pickle.dump(pipeline, file)\n"
      ]
    }
  ],
  "metadata": {
    "colab": {
      "provenance": []
    },
    "kernelspec": {
      "display_name": "Python 3",
      "name": "python3"
    },
    "language_info": {
      "codemirror_mode": {
        "name": "ipython",
        "version": 3
      },
      "file_extension": ".py",
      "mimetype": "text/x-python",
      "name": "python",
      "nbconvert_exporter": "python",
      "pygments_lexer": "ipython3",
      "version": "3.11.8"
    }
  },
  "nbformat": 4,
  "nbformat_minor": 0
}
